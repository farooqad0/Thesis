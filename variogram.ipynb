{
 "cells": [
  {
   "cell_type": "markdown",
   "metadata": {},
   "source": [
    "# Importing Libraries"
   ]
  },
  {
   "cell_type": "code",
   "execution_count": 1,
   "metadata": {},
   "outputs": [],
   "source": [
    "import numpy as np\n",
    "import pandas as pd\n",
    "import math\n",
    "import glob\n",
    "import os\n",
    "import matplotlib.pyplot as plt\n",
    "import seaborn as sns"
   ]
  },
  {
   "cell_type": "markdown",
   "metadata": {},
   "source": [
    "# Uploading Datasets"
   ]
  },
  {
   "cell_type": "code",
   "execution_count": 5,
   "metadata": {},
   "outputs": [],
   "source": [
    "paths  = glob.glob(os.path.join(\"C:/Users/Farooq Arshad/Desktop/Thesis wells/C_sand data\",\"*.csv\"))"
   ]
  },
  {
   "cell_type": "code",
   "execution_count": 6,
   "metadata": {},
   "outputs": [],
   "source": [
    "data=[0]*4\n",
    "for i in range(len(paths)):\n",
    "    data[i] = pd.read_csv(paths[i])\n",
    "    del data[i][data[i].columns[0]]"
   ]
  },
  {
   "cell_type": "code",
   "execution_count": 7,
   "metadata": {},
   "outputs": [
    {
     "data": {
      "text/plain": [
       "['C:/Users/Farooq Arshad/Desktop/Thesis wells/C_sand data\\\\C_sand sawan well 1.csv',\n",
       " 'C:/Users/Farooq Arshad/Desktop/Thesis wells/C_sand data\\\\C_sand sawan well 2.csv',\n",
       " 'C:/Users/Farooq Arshad/Desktop/Thesis wells/C_sand data\\\\C_sand sawan well 7.csv',\n",
       " 'C:/Users/Farooq Arshad/Desktop/Thesis wells/C_sand data\\\\C_sand sawan well 8.csv']"
      ]
     },
     "execution_count": 7,
     "metadata": {},
     "output_type": "execute_result"
    }
   ],
   "source": [
    "paths"
   ]
  },
  {
   "cell_type": "markdown",
   "metadata": {},
   "source": [
    "# Creating list of effective porosity of each well"
   ]
  },
  {
   "cell_type": "code",
   "execution_count": 8,
   "metadata": {},
   "outputs": [],
   "source": [
    "effect=[0]*4\n",
    "for i in range(len(data)):\n",
    "    effect[i] = round(data[i][\"Effective Porosity\"].mean(),3)\n",
    "    "
   ]
  },
  {
   "cell_type": "code",
   "execution_count": 9,
   "metadata": {},
   "outputs": [],
   "source": [
    "effective_porosity = [0]*4"
   ]
  },
  {
   "cell_type": "code",
   "execution_count": 10,
   "metadata": {},
   "outputs": [],
   "source": [
    "effective_porosity[0]= effect[0]\n",
    "effective_porosity[1]= effect[2]\n",
    "effective_porosity[2]= effect[3]\n",
    "effective_porosity[3]= effect[1]"
   ]
  },
  {
   "cell_type": "code",
   "execution_count": 11,
   "metadata": {},
   "outputs": [
    {
     "data": {
      "text/plain": [
       "[14.239, 13.39, 13.608, 12.896]"
      ]
     },
     "execution_count": 11,
     "metadata": {},
     "output_type": "execute_result"
    }
   ],
   "source": [
    "effective_porosity"
   ]
  },
  {
   "cell_type": "markdown",
   "metadata": {},
   "source": [
    "# # Showing coordinates and effective porosity of each well."
   ]
  },
  {
   "cell_type": "code",
   "execution_count": 164,
   "metadata": {},
   "outputs": [],
   "source": [
    "y_coordinate = [026.991828 ,026.999283 ,027.009156 ,027.022972 ]\n",
    "x_coordinate = [068.906992 ,068.923317 ,068.933394 ,068.933806 ]\n",
    "wells_n = [\"SAWAN-01\", \"SAWAN-07\", 'SAWAN-08', 'SAWAN-02']"
   ]
  },
  {
   "cell_type": "code",
   "execution_count": 165,
   "metadata": {},
   "outputs": [],
   "source": [
    "paths = glob.glob(os.path.join(\"C:/Users/Farooq Arshad/Desktop/Thesis wells/C_sand data\",\"*.csv\"))"
   ]
  },
  {
   "cell_type": "code",
   "execution_count": 166,
   "metadata": {},
   "outputs": [],
   "source": [
    "maps = pd.DataFrame({\"y_coordinate\":y_coordinate,\"x_coordinate\":x_coordinate,\"effective porosity\":effective_porosity},index=wells_n)"
   ]
  },
  {
   "cell_type": "code",
   "execution_count": 167,
   "metadata": {},
   "outputs": [
    {
     "data": {
      "text/html": [
       "<div>\n",
       "<style scoped>\n",
       "    .dataframe tbody tr th:only-of-type {\n",
       "        vertical-align: middle;\n",
       "    }\n",
       "\n",
       "    .dataframe tbody tr th {\n",
       "        vertical-align: top;\n",
       "    }\n",
       "\n",
       "    .dataframe thead th {\n",
       "        text-align: right;\n",
       "    }\n",
       "</style>\n",
       "<table border=\"1\" class=\"dataframe\">\n",
       "  <thead>\n",
       "    <tr style=\"text-align: right;\">\n",
       "      <th></th>\n",
       "      <th>y_coordinate</th>\n",
       "      <th>x_coordinate</th>\n",
       "      <th>effective porosity</th>\n",
       "    </tr>\n",
       "  </thead>\n",
       "  <tbody>\n",
       "    <tr>\n",
       "      <th>SAWAN-01</th>\n",
       "      <td>26.991828</td>\n",
       "      <td>68.906992</td>\n",
       "      <td>14.239</td>\n",
       "    </tr>\n",
       "    <tr>\n",
       "      <th>SAWAN-07</th>\n",
       "      <td>26.999283</td>\n",
       "      <td>68.923317</td>\n",
       "      <td>13.390</td>\n",
       "    </tr>\n",
       "    <tr>\n",
       "      <th>SAWAN-08</th>\n",
       "      <td>27.009156</td>\n",
       "      <td>68.933394</td>\n",
       "      <td>13.608</td>\n",
       "    </tr>\n",
       "    <tr>\n",
       "      <th>SAWAN-02</th>\n",
       "      <td>27.022972</td>\n",
       "      <td>68.933806</td>\n",
       "      <td>12.896</td>\n",
       "    </tr>\n",
       "  </tbody>\n",
       "</table>\n",
       "</div>"
      ],
      "text/plain": [
       "          y_coordinate  x_coordinate  effective porosity\n",
       "SAWAN-01     26.991828     68.906992              14.239\n",
       "SAWAN-07     26.999283     68.923317              13.390\n",
       "SAWAN-08     27.009156     68.933394              13.608\n",
       "SAWAN-02     27.022972     68.933806              12.896"
      ]
     },
     "execution_count": 167,
     "metadata": {},
     "output_type": "execute_result"
    }
   ],
   "source": [
    "maps"
   ]
  },
  {
   "cell_type": "code",
   "execution_count": 168,
   "metadata": {},
   "outputs": [
    {
     "data": {
      "image/png": "[encoded data removed]",
      "text/plain": [
       "<Figure size 720x720 with 1 Axes>"
      ]
     },
     "metadata": {
      "needs_background": "light"
     },
     "output_type": "display_data"
    }
   ],
   "source": [
    "plt.figure(figsize=(10,10))\n",
    "sns.regplot(data=maps, x=\"x_coordinate\", y=\"y_coordinate\", fit_reg=False, color=\"darkgoldenrod\", scatter_kws={'s':200})\n",
    "plt.xlabel(\"X_coordinate\",color=\"red\",fontsize=12)\n",
    "plt.ylabel(\"Y_coordinate\",color=\"red\",fontsize=12)\n",
    "for i in maps.index:\n",
    "     plt.text(maps.loc[i][1], maps.loc[i][0], i, horizontalalignment='left', size='medium', color='teal', weight='semibold')\n",
    "for j in range(len(maps.index)):\n",
    "     plt.text(maps.iloc[j][1], maps.iloc[j][0], maps[\"effective porosity\"][j], horizontalalignment='right', size='large', color='red', weight='semibold')\n",
    "plt.show()"
   ]
  },
  {
   "cell_type": "code",
   "execution_count": 169,
   "metadata": {},
   "outputs": [],
   "source": [
    "distances = maps.copy()"
   ]
  },
  {
   "cell_type": "code",
   "execution_count": 170,
   "metadata": {},
   "outputs": [
    {
     "data": {
      "text/html": [
       "<div>\n",
       "<style scoped>\n",
       "    .dataframe tbody tr th:only-of-type {\n",
       "        vertical-align: middle;\n",
       "    }\n",
       "\n",
       "    .dataframe tbody tr th {\n",
       "        vertical-align: top;\n",
       "    }\n",
       "\n",
       "    .dataframe thead th {\n",
       "        text-align: right;\n",
       "    }\n",
       "</style>\n",
       "<table border=\"1\" class=\"dataframe\">\n",
       "  <thead>\n",
       "    <tr style=\"text-align: right;\">\n",
       "      <th></th>\n",
       "      <th>y_coordinate</th>\n",
       "      <th>x_coordinate</th>\n",
       "      <th>effective porosity</th>\n",
       "    </tr>\n",
       "  </thead>\n",
       "  <tbody>\n",
       "    <tr>\n",
       "      <th>SAWAN-01</th>\n",
       "      <td>26.991828</td>\n",
       "      <td>68.906992</td>\n",
       "      <td>14.239</td>\n",
       "    </tr>\n",
       "    <tr>\n",
       "      <th>SAWAN-07</th>\n",
       "      <td>26.999283</td>\n",
       "      <td>68.923317</td>\n",
       "      <td>13.390</td>\n",
       "    </tr>\n",
       "    <tr>\n",
       "      <th>SAWAN-08</th>\n",
       "      <td>27.009156</td>\n",
       "      <td>68.933394</td>\n",
       "      <td>13.608</td>\n",
       "    </tr>\n",
       "    <tr>\n",
       "      <th>SAWAN-02</th>\n",
       "      <td>27.022972</td>\n",
       "      <td>68.933806</td>\n",
       "      <td>12.896</td>\n",
       "    </tr>\n",
       "  </tbody>\n",
       "</table>\n",
       "</div>"
      ],
      "text/plain": [
       "          y_coordinate  x_coordinate  effective porosity\n",
       "SAWAN-01     26.991828     68.906992              14.239\n",
       "SAWAN-07     26.999283     68.923317              13.390\n",
       "SAWAN-08     27.009156     68.933394              13.608\n",
       "SAWAN-02     27.022972     68.933806              12.896"
      ]
     },
     "execution_count": 170,
     "metadata": {},
     "output_type": "execute_result"
    }
   ],
   "source": [
    "distances"
   ]
  },
  {
   "cell_type": "code",
   "execution_count": 177,
   "metadata": {},
   "outputs": [
    {
     "data": {
      "text/plain": [
       "6.0"
      ]
     },
     "execution_count": 177,
     "metadata": {},
     "output_type": "execute_result"
    }
   ],
   "source": [
    "a = len(distances)\n",
    "((a)*(a-1))/(np.math.factorial(2))"
   ]
  },
  {
   "cell_type": "code",
   "execution_count": 178,
   "metadata": {},
   "outputs": [
    {
     "data": {
      "text/plain": [
       "13.608"
      ]
     },
     "execution_count": 178,
     "metadata": {},
     "output_type": "execute_result"
    }
   ],
   "source": [
    "distances.iloc[2][2]"
   ]
  },
  {
   "cell_type": "code",
   "execution_count": 179,
   "metadata": {},
   "outputs": [],
   "source": [
    "distance=[]\n",
    "well_vari=[]"
   ]
  },
  {
   "cell_type": "code",
   "execution_count": null,
   "metadata": {},
   "outputs": [],
   "source": []
  },
  {
   "cell_type": "code",
   "execution_count": 183,
   "metadata": {},
   "outputs": [],
   "source": [
    "for i in range(a):\n",
    "    for j in range(a):\n",
    "        if distances.iloc[i].name == distances.iloc[j].name:\n",
    "            pass\n",
    "        else:\n",
    "            y=(distances.iloc[i][0]-distances.iloc[j][0])**2\n",
    "            x=(distances.iloc[i][1]-distances.iloc[j][1])**2\n",
    "            dist = math.sqrt(x + y)\n",
    "            well_vari.append(str(i)+str(j))\n",
    "            distance.append(dist)\n",
    "wells_info = pd.DataFrame({\"wells_name\":well_vari,\"wells_distance\":distance}) \n",
    "a = wells_info[[\"wells_distance\"]].drop_duplicates() "
   ]
  },
  {
   "cell_type": "code",
   "execution_count": 189,
   "metadata": {},
   "outputs": [
    {
     "data": {
      "text/html": [
       "<div>\n",
       "<style scoped>\n",
       "    .dataframe tbody tr th:only-of-type {\n",
       "        vertical-align: middle;\n",
       "    }\n",
       "\n",
       "    .dataframe tbody tr th {\n",
       "        vertical-align: top;\n",
       "    }\n",
       "\n",
       "    .dataframe thead th {\n",
       "        text-align: right;\n",
       "    }\n",
       "</style>\n",
       "<table border=\"1\" class=\"dataframe\">\n",
       "  <thead>\n",
       "    <tr style=\"text-align: right;\">\n",
       "      <th></th>\n",
       "      <th>wells_name</th>\n",
       "      <th>wells_distance</th>\n",
       "    </tr>\n",
       "  </thead>\n",
       "  <tbody>\n",
       "    <tr>\n",
       "      <th>0</th>\n",
       "      <td>01</td>\n",
       "      <td>0.017947</td>\n",
       "    </tr>\n",
       "    <tr>\n",
       "      <th>1</th>\n",
       "      <td>02</td>\n",
       "      <td>0.031580</td>\n",
       "    </tr>\n",
       "    <tr>\n",
       "      <th>2</th>\n",
       "      <td>03</td>\n",
       "      <td>0.041097</td>\n",
       "    </tr>\n",
       "    <tr>\n",
       "      <th>4</th>\n",
       "      <td>12</td>\n",
       "      <td>0.014108</td>\n",
       "    </tr>\n",
       "    <tr>\n",
       "      <th>5</th>\n",
       "      <td>13</td>\n",
       "      <td>0.025907</td>\n",
       "    </tr>\n",
       "    <tr>\n",
       "      <th>8</th>\n",
       "      <td>23</td>\n",
       "      <td>0.013822</td>\n",
       "    </tr>\n",
       "  </tbody>\n",
       "</table>\n",
       "</div>"
      ],
      "text/plain": [
       "  wells_name  wells_distance\n",
       "0         01        0.017947\n",
       "1         02        0.031580\n",
       "2         03        0.041097\n",
       "4         12        0.014108\n",
       "5         13        0.025907\n",
       "8         23        0.013822"
      ]
     },
     "execution_count": 189,
     "metadata": {},
     "output_type": "execute_result"
    }
   ],
   "source": [
    "wells_info.loc[a.index]"
   ]
  },
  {
   "cell_type": "code",
   "execution_count": 185,
   "metadata": {},
   "outputs": [],
   "source": [
    "wells_info = wells_info.iloc[a.index]\n"
   ]
  },
  {
   "cell_type": "code",
   "execution_count": 190,
   "metadata": {},
   "outputs": [],
   "source": [
    "distance = wells_info[[\"wells_distance\"]]"
   ]
  },
  {
   "cell_type": "code",
   "execution_count": 191,
   "metadata": {},
   "outputs": [],
   "source": [
    "minim = distance.min()[0]\n",
    "maxim = distance.max()[0]"
   ]
  },
  {
   "cell_type": "code",
   "execution_count": 193,
   "metadata": {},
   "outputs": [
    {
     "data": {
      "text/plain": [
       "0.013822141657498527"
      ]
     },
     "execution_count": 193,
     "metadata": {},
     "output_type": "execute_result"
    }
   ],
   "source": [
    "minim"
   ]
  },
  {
   "cell_type": "code",
   "execution_count": 192,
   "metadata": {},
   "outputs": [
    {
     "data": {
      "text/plain": [
       "0.027274565412532533"
      ]
     },
     "execution_count": 192,
     "metadata": {},
     "output_type": "execute_result"
    }
   ],
   "source": [
    "_range = maxim-minim\n",
    "_range"
   ]
  },
  {
   "cell_type": "code",
   "execution_count": 42,
   "metadata": {},
   "outputs": [
    {
     "name": "stdout",
     "output_type": "stream",
     "text": [
      "Number of bins : 5\n"
     ]
    }
   ],
   "source": [
    "bins = int(input(\"Number of bins : \"))"
   ]
  },
  {
   "cell_type": "code",
   "execution_count": 195,
   "metadata": {},
   "outputs": [],
   "source": [
    "r = _range/(bins-1)"
   ]
  },
  {
   "cell_type": "code",
   "execution_count": 196,
   "metadata": {},
   "outputs": [
    {
     "data": {
      "text/plain": [
       "0.006818641353133133"
      ]
     },
     "execution_count": 196,
     "metadata": {},
     "output_type": "execute_result"
    }
   ],
   "source": [
    "r"
   ]
  },
  {
   "cell_type": "code",
   "execution_count": 197,
   "metadata": {},
   "outputs": [],
   "source": [
    "r_val = np.arange(minim,maxim,r)"
   ]
  },
  {
   "cell_type": "code",
   "execution_count": 198,
   "metadata": {},
   "outputs": [],
   "source": [
    "r_val = np.append(r_val,maxim)"
   ]
  },
  {
   "cell_type": "code",
   "execution_count": 199,
   "metadata": {},
   "outputs": [],
   "source": [
    "list_ranges=pd.DataFrame({\"Bins\":np.arange(1,bins+1),\"r\":r_val},index=np.arange(0,bins))"
   ]
  },
  {
   "cell_type": "code",
   "execution_count": 200,
   "metadata": {},
   "outputs": [
    {
     "data": {
      "text/html": [
       "<div>\n",
       "<style scoped>\n",
       "    .dataframe tbody tr th:only-of-type {\n",
       "        vertical-align: middle;\n",
       "    }\n",
       "\n",
       "    .dataframe tbody tr th {\n",
       "        vertical-align: top;\n",
       "    }\n",
       "\n",
       "    .dataframe thead th {\n",
       "        text-align: right;\n",
       "    }\n",
       "</style>\n",
       "<table border=\"1\" class=\"dataframe\">\n",
       "  <thead>\n",
       "    <tr style=\"text-align: right;\">\n",
       "      <th></th>\n",
       "      <th>Bins</th>\n",
       "      <th>r</th>\n",
       "    </tr>\n",
       "  </thead>\n",
       "  <tbody>\n",
       "    <tr>\n",
       "      <th>0</th>\n",
       "      <td>1</td>\n",
       "      <td>0.013822</td>\n",
       "    </tr>\n",
       "    <tr>\n",
       "      <th>1</th>\n",
       "      <td>2</td>\n",
       "      <td>0.020641</td>\n",
       "    </tr>\n",
       "    <tr>\n",
       "      <th>2</th>\n",
       "      <td>3</td>\n",
       "      <td>0.027459</td>\n",
       "    </tr>\n",
       "    <tr>\n",
       "      <th>3</th>\n",
       "      <td>4</td>\n",
       "      <td>0.034278</td>\n",
       "    </tr>\n",
       "    <tr>\n",
       "      <th>4</th>\n",
       "      <td>5</td>\n",
       "      <td>0.041097</td>\n",
       "    </tr>\n",
       "  </tbody>\n",
       "</table>\n",
       "</div>"
      ],
      "text/plain": [
       "   Bins         r\n",
       "0     1  0.013822\n",
       "1     2  0.020641\n",
       "2     3  0.027459\n",
       "3     4  0.034278\n",
       "4     5  0.041097"
      ]
     },
     "execution_count": 200,
     "metadata": {},
     "output_type": "execute_result"
    }
   ],
   "source": [
    "list_ranges"
   ]
  },
  {
   "cell_type": "code",
   "execution_count": 201,
   "metadata": {},
   "outputs": [],
   "source": [
    "list_ranges[\"delta_r\"] = r"
   ]
  },
  {
   "cell_type": "code",
   "execution_count": 202,
   "metadata": {},
   "outputs": [
    {
     "data": {
      "text/html": [
       "<div>\n",
       "<style scoped>\n",
       "    .dataframe tbody tr th:only-of-type {\n",
       "        vertical-align: middle;\n",
       "    }\n",
       "\n",
       "    .dataframe tbody tr th {\n",
       "        vertical-align: top;\n",
       "    }\n",
       "\n",
       "    .dataframe thead th {\n",
       "        text-align: right;\n",
       "    }\n",
       "</style>\n",
       "<table border=\"1\" class=\"dataframe\">\n",
       "  <thead>\n",
       "    <tr style=\"text-align: right;\">\n",
       "      <th></th>\n",
       "      <th>Bins</th>\n",
       "      <th>r</th>\n",
       "      <th>delta_r</th>\n",
       "    </tr>\n",
       "  </thead>\n",
       "  <tbody>\n",
       "    <tr>\n",
       "      <th>0</th>\n",
       "      <td>1</td>\n",
       "      <td>0.013822</td>\n",
       "      <td>0.006819</td>\n",
       "    </tr>\n",
       "    <tr>\n",
       "      <th>1</th>\n",
       "      <td>2</td>\n",
       "      <td>0.020641</td>\n",
       "      <td>0.006819</td>\n",
       "    </tr>\n",
       "    <tr>\n",
       "      <th>2</th>\n",
       "      <td>3</td>\n",
       "      <td>0.027459</td>\n",
       "      <td>0.006819</td>\n",
       "    </tr>\n",
       "    <tr>\n",
       "      <th>3</th>\n",
       "      <td>4</td>\n",
       "      <td>0.034278</td>\n",
       "      <td>0.006819</td>\n",
       "    </tr>\n",
       "    <tr>\n",
       "      <th>4</th>\n",
       "      <td>5</td>\n",
       "      <td>0.041097</td>\n",
       "      <td>0.006819</td>\n",
       "    </tr>\n",
       "  </tbody>\n",
       "</table>\n",
       "</div>"
      ],
      "text/plain": [
       "   Bins         r   delta_r\n",
       "0     1  0.013822  0.006819\n",
       "1     2  0.020641  0.006819\n",
       "2     3  0.027459  0.006819\n",
       "3     4  0.034278  0.006819\n",
       "4     5  0.041097  0.006819"
      ]
     },
     "execution_count": 202,
     "metadata": {},
     "output_type": "execute_result"
    }
   ],
   "source": [
    "list_ranges"
   ]
  },
  {
   "cell_type": "code",
   "execution_count": 203,
   "metadata": {},
   "outputs": [],
   "source": [
    "list_ranges[\"negative delta r\"]=list_ranges[\"r\"]-(list_ranges[\"delta_r\"]/2)"
   ]
  },
  {
   "cell_type": "code",
   "execution_count": 204,
   "metadata": {},
   "outputs": [],
   "source": [
    "list_ranges[\"positive delta r\"]=list_ranges[\"r\"]+(list_ranges[\"delta_r\"]/2)"
   ]
  },
  {
   "cell_type": "code",
   "execution_count": 205,
   "metadata": {},
   "outputs": [
    {
     "data": {
      "text/html": [
       "<div>\n",
       "<style scoped>\n",
       "    .dataframe tbody tr th:only-of-type {\n",
       "        vertical-align: middle;\n",
       "    }\n",
       "\n",
       "    .dataframe tbody tr th {\n",
       "        vertical-align: top;\n",
       "    }\n",
       "\n",
       "    .dataframe thead th {\n",
       "        text-align: right;\n",
       "    }\n",
       "</style>\n",
       "<table border=\"1\" class=\"dataframe\">\n",
       "  <thead>\n",
       "    <tr style=\"text-align: right;\">\n",
       "      <th></th>\n",
       "      <th>Bins</th>\n",
       "      <th>r</th>\n",
       "      <th>delta_r</th>\n",
       "      <th>negative delta r</th>\n",
       "      <th>positive delta r</th>\n",
       "    </tr>\n",
       "  </thead>\n",
       "  <tbody>\n",
       "    <tr>\n",
       "      <th>0</th>\n",
       "      <td>1</td>\n",
       "      <td>0.013822</td>\n",
       "      <td>0.006819</td>\n",
       "      <td>0.010413</td>\n",
       "      <td>0.017231</td>\n",
       "    </tr>\n",
       "    <tr>\n",
       "      <th>1</th>\n",
       "      <td>2</td>\n",
       "      <td>0.020641</td>\n",
       "      <td>0.006819</td>\n",
       "      <td>0.017231</td>\n",
       "      <td>0.024050</td>\n",
       "    </tr>\n",
       "    <tr>\n",
       "      <th>2</th>\n",
       "      <td>3</td>\n",
       "      <td>0.027459</td>\n",
       "      <td>0.006819</td>\n",
       "      <td>0.024050</td>\n",
       "      <td>0.030869</td>\n",
       "    </tr>\n",
       "    <tr>\n",
       "      <th>3</th>\n",
       "      <td>4</td>\n",
       "      <td>0.034278</td>\n",
       "      <td>0.006819</td>\n",
       "      <td>0.030869</td>\n",
       "      <td>0.037687</td>\n",
       "    </tr>\n",
       "    <tr>\n",
       "      <th>4</th>\n",
       "      <td>5</td>\n",
       "      <td>0.041097</td>\n",
       "      <td>0.006819</td>\n",
       "      <td>0.037687</td>\n",
       "      <td>0.044506</td>\n",
       "    </tr>\n",
       "  </tbody>\n",
       "</table>\n",
       "</div>"
      ],
      "text/plain": [
       "   Bins         r   delta_r  negative delta r  positive delta r\n",
       "0     1  0.013822  0.006819          0.010413          0.017231\n",
       "1     2  0.020641  0.006819          0.017231          0.024050\n",
       "2     3  0.027459  0.006819          0.024050          0.030869\n",
       "3     4  0.034278  0.006819          0.030869          0.037687\n",
       "4     5  0.041097  0.006819          0.037687          0.044506"
      ]
     },
     "execution_count": 205,
     "metadata": {},
     "output_type": "execute_result"
    }
   ],
   "source": [
    "list_ranges"
   ]
  },
  {
   "cell_type": "code",
   "execution_count": 206,
   "metadata": {},
   "outputs": [],
   "source": [
    "list_ranges[\"# wells\"]=0\n",
    "list_ranges[\"name of wells\"]= \"\""
   ]
  },
  {
   "cell_type": "code",
   "execution_count": 207,
   "metadata": {},
   "outputs": [
    {
     "name": "stderr",
     "output_type": "stream",
     "text": [
      "E:\\anaconda\\lib\\site-packages\\pandas\\core\\indexing.py:670: SettingWithCopyWarning: \n",
      "A value is trying to be set on a copy of a slice from a DataFrame\n",
      "\n",
      "See the caveats in the documentation: https://pandas.pydata.org/pandas-docs/stable/user_guide/indexing.html#returning-a-view-versus-a-copy\n",
      "  iloc._setitem_with_indexer(indexer, value)\n"
     ]
    }
   ],
   "source": [
    "\n",
    "for i in range(len(wells_info)):\n",
    "    for j in range(len(list_ranges)):\n",
    "        if (wells_info[[\"wells_distance\"]].iloc[i][0]>list_ranges[[\"negative delta r\"]].iloc[j][0])& (wells_info[[\"wells_distance\"]].iloc[i][0]<list_ranges[[\"positive delta r\"]].iloc[j][0]):\n",
    "            list_ranges[\"# wells\"].iloc[j]=list_ranges[\"# wells\"].iloc[j]+1\n",
    "            list_ranges[\"name of wells\"].iloc[j]=  wells_info[\"wells_name\"].iloc[i]+\".\"+ list_ranges[\"name of wells\"].iloc[j]\n",
    "        \n",
    "        "
   ]
  },
  {
   "cell_type": "code",
   "execution_count": 208,
   "metadata": {},
   "outputs": [
    {
     "data": {
      "text/html": [
       "<div>\n",
       "<style scoped>\n",
       "    .dataframe tbody tr th:only-of-type {\n",
       "        vertical-align: middle;\n",
       "    }\n",
       "\n",
       "    .dataframe tbody tr th {\n",
       "        vertical-align: top;\n",
       "    }\n",
       "\n",
       "    .dataframe thead th {\n",
       "        text-align: right;\n",
       "    }\n",
       "</style>\n",
       "<table border=\"1\" class=\"dataframe\">\n",
       "  <thead>\n",
       "    <tr style=\"text-align: right;\">\n",
       "      <th></th>\n",
       "      <th>Bins</th>\n",
       "      <th>r</th>\n",
       "      <th>delta_r</th>\n",
       "      <th>negative delta r</th>\n",
       "      <th>positive delta r</th>\n",
       "      <th># wells</th>\n",
       "      <th>name of wells</th>\n",
       "    </tr>\n",
       "  </thead>\n",
       "  <tbody>\n",
       "    <tr>\n",
       "      <th>0</th>\n",
       "      <td>1</td>\n",
       "      <td>0.013822</td>\n",
       "      <td>0.006819</td>\n",
       "      <td>0.010413</td>\n",
       "      <td>0.017231</td>\n",
       "      <td>2</td>\n",
       "      <td>23.12.</td>\n",
       "    </tr>\n",
       "    <tr>\n",
       "      <th>1</th>\n",
       "      <td>2</td>\n",
       "      <td>0.020641</td>\n",
       "      <td>0.006819</td>\n",
       "      <td>0.017231</td>\n",
       "      <td>0.024050</td>\n",
       "      <td>1</td>\n",
       "      <td>01.</td>\n",
       "    </tr>\n",
       "    <tr>\n",
       "      <th>2</th>\n",
       "      <td>3</td>\n",
       "      <td>0.027459</td>\n",
       "      <td>0.006819</td>\n",
       "      <td>0.024050</td>\n",
       "      <td>0.030869</td>\n",
       "      <td>1</td>\n",
       "      <td>13.</td>\n",
       "    </tr>\n",
       "    <tr>\n",
       "      <th>3</th>\n",
       "      <td>4</td>\n",
       "      <td>0.034278</td>\n",
       "      <td>0.006819</td>\n",
       "      <td>0.030869</td>\n",
       "      <td>0.037687</td>\n",
       "      <td>1</td>\n",
       "      <td>02.</td>\n",
       "    </tr>\n",
       "    <tr>\n",
       "      <th>4</th>\n",
       "      <td>5</td>\n",
       "      <td>0.041097</td>\n",
       "      <td>0.006819</td>\n",
       "      <td>0.037687</td>\n",
       "      <td>0.044506</td>\n",
       "      <td>1</td>\n",
       "      <td>03.</td>\n",
       "    </tr>\n",
       "  </tbody>\n",
       "</table>\n",
       "</div>"
      ],
      "text/plain": [
       "   Bins         r   delta_r  negative delta r  positive delta r  # wells  \\\n",
       "0     1  0.013822  0.006819          0.010413          0.017231        2   \n",
       "1     2  0.020641  0.006819          0.017231          0.024050        1   \n",
       "2     3  0.027459  0.006819          0.024050          0.030869        1   \n",
       "3     4  0.034278  0.006819          0.030869          0.037687        1   \n",
       "4     5  0.041097  0.006819          0.037687          0.044506        1   \n",
       "\n",
       "  name of wells  \n",
       "0        23.12.  \n",
       "1           01.  \n",
       "2           13.  \n",
       "3           02.  \n",
       "4           03.  "
      ]
     },
     "execution_count": 208,
     "metadata": {},
     "output_type": "execute_result"
    }
   ],
   "source": [
    "list_ranges"
   ]
  },
  {
   "cell_type": "code",
   "execution_count": 209,
   "metadata": {},
   "outputs": [],
   "source": [
    "# 0 means sawan well 1 \n",
    "# 1  means sawan well 7\n",
    "# 2 means sawan well 8\n",
    "# 3 means sawan well 2"
   ]
  },
  {
   "cell_type": "code",
   "execution_count": 210,
   "metadata": {},
   "outputs": [],
   "source": [
    "# for i in range(len(list_ranges)):\n",
    "#     print(f\"Bins no {i}\")\n",
    "#     no_of_wells = list_ranges.loc[i][6]\n",
    "#     a = len(list_ranges.loc[i][6])-list_ranges.loc[i][5]\n",
    "#     print(a)\n",
    "#     for i in range(a):\n",
    "#         wells_no=[0]*(a)\n",
    "#         print(\"Type the name of wells you want to calculate the change in effective porosity :\")\n",
    "#         wells_no[i] = input(\"Enter the well number\")\n",
    "#         effective_porosity[wells_no[i]]\n",
    "    \n",
    "        "
   ]
  },
  {
   "cell_type": "code",
   "execution_count": 211,
   "metadata": {},
   "outputs": [],
   "source": [
    "variance=[]"
   ]
  },
  {
   "cell_type": "code",
   "execution_count": 212,
   "metadata": {},
   "outputs": [],
   "source": [
    "a=(effective_porosity[0]-effective_porosity[1])**2\n",
    "b=(effective_porosity[1]-effective_porosity[2])**2"
   ]
  },
  {
   "cell_type": "code",
   "execution_count": 213,
   "metadata": {},
   "outputs": [],
   "source": [
    "c = math.sqrt((a+b)/2)\n",
    "variance.append(c)"
   ]
  },
  {
   "cell_type": "code",
   "execution_count": 214,
   "metadata": {},
   "outputs": [],
   "source": [
    "d=math.sqrt((effective_porosity[0]-effective_porosity[1])**2)\n",
    "variance.append(d)"
   ]
  },
  {
   "cell_type": "code",
   "execution_count": 215,
   "metadata": {},
   "outputs": [],
   "source": [
    "e=math.sqrt((effective_porosity[1]-effective_porosity[3])**2)\n",
    "variance.append(e)"
   ]
  },
  {
   "cell_type": "code",
   "execution_count": 216,
   "metadata": {},
   "outputs": [],
   "source": [
    "f=math.sqrt((effective_porosity[0]-effective_porosity[2])**2)\n",
    "variance.append(f)"
   ]
  },
  {
   "cell_type": "code",
   "execution_count": 217,
   "metadata": {},
   "outputs": [],
   "source": [
    "g=math.sqrt((effective_porosity[0]-effective_porosity[3])**2)\n",
    "variance.append(g)"
   ]
  },
  {
   "cell_type": "code",
   "execution_count": null,
   "metadata": {},
   "outputs": [],
   "source": []
  },
  {
   "cell_type": "code",
   "execution_count": 218,
   "metadata": {},
   "outputs": [
    {
     "data": {
      "text/plain": [
       "[0.6198084381484332,\n",
       " 0.8490000000000002,\n",
       " 0.4939999999999998,\n",
       " 0.6310000000000002,\n",
       " 1.343]"
      ]
     },
     "execution_count": 218,
     "metadata": {},
     "output_type": "execute_result"
    }
   ],
   "source": [
    "variance"
   ]
  },
  {
   "cell_type": "code",
   "execution_count": 219,
   "metadata": {},
   "outputs": [],
   "source": [
    "list_ranges[\"variances\"]=variance"
   ]
  },
  {
   "cell_type": "code",
   "execution_count": 220,
   "metadata": {},
   "outputs": [
    {
     "data": {
      "text/html": [
       "<div>\n",
       "<style scoped>\n",
       "    .dataframe tbody tr th:only-of-type {\n",
       "        vertical-align: middle;\n",
       "    }\n",
       "\n",
       "    .dataframe tbody tr th {\n",
       "        vertical-align: top;\n",
       "    }\n",
       "\n",
       "    .dataframe thead th {\n",
       "        text-align: right;\n",
       "    }\n",
       "</style>\n",
       "<table border=\"1\" class=\"dataframe\">\n",
       "  <thead>\n",
       "    <tr style=\"text-align: right;\">\n",
       "      <th></th>\n",
       "      <th>Bins</th>\n",
       "      <th>r</th>\n",
       "      <th>delta_r</th>\n",
       "      <th>negative delta r</th>\n",
       "      <th>positive delta r</th>\n",
       "      <th># wells</th>\n",
       "      <th>name of wells</th>\n",
       "      <th>variances</th>\n",
       "    </tr>\n",
       "  </thead>\n",
       "  <tbody>\n",
       "    <tr>\n",
       "      <th>0</th>\n",
       "      <td>1</td>\n",
       "      <td>0.013822</td>\n",
       "      <td>0.006819</td>\n",
       "      <td>0.010413</td>\n",
       "      <td>0.017231</td>\n",
       "      <td>2</td>\n",
       "      <td>23.12.</td>\n",
       "      <td>0.619808</td>\n",
       "    </tr>\n",
       "    <tr>\n",
       "      <th>1</th>\n",
       "      <td>2</td>\n",
       "      <td>0.020641</td>\n",
       "      <td>0.006819</td>\n",
       "      <td>0.017231</td>\n",
       "      <td>0.024050</td>\n",
       "      <td>1</td>\n",
       "      <td>01.</td>\n",
       "      <td>0.849000</td>\n",
       "    </tr>\n",
       "    <tr>\n",
       "      <th>2</th>\n",
       "      <td>3</td>\n",
       "      <td>0.027459</td>\n",
       "      <td>0.006819</td>\n",
       "      <td>0.024050</td>\n",
       "      <td>0.030869</td>\n",
       "      <td>1</td>\n",
       "      <td>13.</td>\n",
       "      <td>0.494000</td>\n",
       "    </tr>\n",
       "    <tr>\n",
       "      <th>3</th>\n",
       "      <td>4</td>\n",
       "      <td>0.034278</td>\n",
       "      <td>0.006819</td>\n",
       "      <td>0.030869</td>\n",
       "      <td>0.037687</td>\n",
       "      <td>1</td>\n",
       "      <td>02.</td>\n",
       "      <td>0.631000</td>\n",
       "    </tr>\n",
       "    <tr>\n",
       "      <th>4</th>\n",
       "      <td>5</td>\n",
       "      <td>0.041097</td>\n",
       "      <td>0.006819</td>\n",
       "      <td>0.037687</td>\n",
       "      <td>0.044506</td>\n",
       "      <td>1</td>\n",
       "      <td>03.</td>\n",
       "      <td>1.343000</td>\n",
       "    </tr>\n",
       "  </tbody>\n",
       "</table>\n",
       "</div>"
      ],
      "text/plain": [
       "   Bins         r   delta_r  negative delta r  positive delta r  # wells  \\\n",
       "0     1  0.013822  0.006819          0.010413          0.017231        2   \n",
       "1     2  0.020641  0.006819          0.017231          0.024050        1   \n",
       "2     3  0.027459  0.006819          0.024050          0.030869        1   \n",
       "3     4  0.034278  0.006819          0.030869          0.037687        1   \n",
       "4     5  0.041097  0.006819          0.037687          0.044506        1   \n",
       "\n",
       "  name of wells  variances  \n",
       "0        23.12.   0.619808  \n",
       "1           01.   0.849000  \n",
       "2           13.   0.494000  \n",
       "3           02.   0.631000  \n",
       "4           03.   1.343000  "
      ]
     },
     "execution_count": 220,
     "metadata": {},
     "output_type": "execute_result"
    }
   ],
   "source": [
    "list_ranges"
   ]
  },
  {
   "cell_type": "code",
   "execution_count": 221,
   "metadata": {},
   "outputs": [],
   "source": [
    "list_ranges[\"name of wells\"] = list_ranges[\"name of wells\"].replace([\"23.12.\"],[\"82 78\"]) \n",
    "list_ranges[\"name of wells\"] = list_ranges[\"name of wells\"].replace([\"01.\"],[\"17\"]) \n",
    "list_ranges[\"name of wells\"] = list_ranges[\"name of wells\"].replace([\"13.\"],[\"72\"])\n",
    "list_ranges[\"name of wells\"] = list_ranges[\"name of wells\"].replace([\"03.\"],[\"12\"])"
   ]
  },
  {
   "cell_type": "code",
   "execution_count": 222,
   "metadata": {},
   "outputs": [],
   "source": [
    "list_ranges[\"name of wells\"] = list_ranges[\"name of wells\"].replace([\"02.\"],[\"18\"])"
   ]
  },
  {
   "cell_type": "code",
   "execution_count": 223,
   "metadata": {},
   "outputs": [
    {
     "data": {
      "image/png": "[encoded data removed]",
      "text/plain": [
       "<Figure size 720x720 with 1 Axes>"
      ]
     },
     "metadata": {
      "needs_background": "light"
     },
     "output_type": "display_data"
    }
   ],
   "source": [
    "plt.figure(figsize=(10,10))\n",
    "sns.regplot(data=list_ranges, x=\"r\", y=\"variances\", fit_reg=False, color=\"darkgoldenrod\", scatter_kws={'s':200})\n",
    "plt.xlabel(\"r\",color=\"red\",fontsize=12)\n",
    "plt.ylabel(\"variances\",color=\"red\",fontsize=12)\n",
    "for j in range(len(list_ranges.index)):\n",
    "     plt.text(list_ranges.loc[j][1], list_ranges.loc[j][7], list_ranges[\"name of wells\"][j], horizontalalignment='right', size='large', color='red', weight='semibold')\n",
    "plt.show()"
   ]
  },
  {
   "cell_type": "code",
   "execution_count": null,
   "metadata": {},
   "outputs": [],
   "source": []
  }
 ],
 "metadata": {
  "kernelspec": {
   "display_name": "Python 3",
   "language": "python",
   "name": "python3"
  },
  "language_info": {
   "codemirror_mode": {
    "name": "ipython",
    "version": 3
   },
   "file_extension": ".py",
   "mimetype": "text/x-python",
   "name": "python",
   "nbconvert_exporter": "python",
   "pygments_lexer": "ipython3",
   "version": "3.8.5"
  }
 },
 "nbformat": 4,
 "nbformat_minor": 4
}
